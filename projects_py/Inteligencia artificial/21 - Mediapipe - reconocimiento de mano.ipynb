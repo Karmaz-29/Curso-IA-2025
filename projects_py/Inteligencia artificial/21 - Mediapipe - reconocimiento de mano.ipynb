{
 "cells": [
  {
   "cell_type": "code",
   "execution_count": 1,
   "id": "382ecb4b-616f-414c-9600-5d0013216972",
   "metadata": {},
   "outputs": [],
   "source": [
    "import cv2\n",
    "import mediapipe as mp"
   ]
  },
  {
   "cell_type": "code",
   "execution_count": 2,
   "id": "5be64220-c6e2-4367-87ed-155746cec1cb",
   "metadata": {},
   "outputs": [],
   "source": [
    "mp_drawing = mp.solutions.drawing_utils\n",
    "mp_hands = mp.solutions.hands\n"
   ]
  },
  {
   "cell_type": "code",
   "execution_count": 3,
   "id": "8b5638d1-56be-48d4-a08a-ee646d748a0e",
   "metadata": {},
   "outputs": [],
   "source": [
    "ruta = '../data_set/JPG/mano-2.jpg'"
   ]
  },
  {
   "cell_type": "code",
   "execution_count": 6,
   "id": "6b62a6a0-80c9-4537-ab89-a6e905757e9e",
   "metadata": {},
   "outputs": [
    {
     "name": "stdout",
     "output_type": "stream",
     "text": [
      "Handedness:  [classification {\n",
      "  index: 1\n",
      "  score: 0.952215672\n",
      "  label: \"Right\"\n",
      "}\n",
      "]\n"
     ]
    }
   ],
   "source": [
    "with mp_hands.Hands(\n",
    "    static_image_mode= True,\n",
    "    max_num_hands=1,\n",
    "    min_detection_confidence=0.5) as hands:\n",
    "    image = cv2.imread(ruta)\n",
    "    heigth, width, _ = image.shape\n",
    "    image = cv2.flip(image, 1)\n",
    "    image_rgb = cv2.cvtColor(image, cv2.COLOR_BGR2RGB)\n",
    "    results = hands.process(image_rgb)\n",
    "    print('Handedness: ', results.multi_handedness)"
   ]
  },
  {
   "cell_type": "code",
   "execution_count": 10,
   "id": "31a419ff-7869-4162-b062-8d3cda733a55",
   "metadata": {},
   "outputs": [
    {
     "name": "stdout",
     "output_type": "stream",
     "text": [
      "Handedness:  [classification {\n",
      "  index: 1\n",
      "  score: 0.936777413\n",
      "  label: \"Right\"\n",
      "}\n",
      "]\n"
     ]
    }
   ],
   "source": [
    "ruta2 = '../data_set/JPG/mano.jpg'\n",
    "with mp_hands.Hands(\n",
    "    static_image_mode= True,\n",
    "    max_num_hands=1,\n",
    "    min_detection_confidence=0.5) as hands:\n",
    "    image = cv2.imread(ruta2)\n",
    "    heigth, width, _ = image.shape\n",
    "    image = cv2.flip(image, 1)\n",
    "    image_rgb = cv2.cvtColor(image, cv2.COLOR_BGR2RGB)\n",
    "    results = hands.process(image_rgb)\n",
    "    print('Handedness: ', results.multi_handedness)"
   ]
  },
  {
   "cell_type": "code",
   "execution_count": 11,
   "id": "2ce6cf83-892d-4c8c-b8bf-fe162dc78346",
   "metadata": {},
   "outputs": [
    {
     "name": "stdout",
     "output_type": "stream",
     "text": [
      "Handedness:  [classification {\n",
      "  index: 0\n",
      "  score: 0.986841381\n",
      "  label: \"Left\"\n",
      "}\n",
      ", classification {\n",
      "  index: 1\n",
      "  score: 0.953673\n",
      "  label: \"Right\"\n",
      "}\n",
      "]\n"
     ]
    }
   ],
   "source": [
    "ruta3 = '../data_set/JPG/manos.jpg'\n",
    "with mp_hands.Hands(\n",
    "    static_image_mode= True,\n",
    "    max_num_hands=2,\n",
    "    min_detection_confidence=0.5) as hands:\n",
    "    image = cv2.imread(ruta3)\n",
    "    heigth, width, _ = image.shape\n",
    "    image = cv2.flip(image, 1)\n",
    "    image_rgb = cv2.cvtColor(image, cv2.COLOR_BGR2RGB)\n",
    "    results = hands.process(image_rgb)\n",
    "    print('Handedness: ', results.multi_handedness)"
   ]
  },
  {
   "cell_type": "code",
   "execution_count": null,
   "id": "eb1f8f61-96a9-45b6-be1e-a491cd87ba53",
   "metadata": {},
   "outputs": [],
   "source": []
  }
 ],
 "metadata": {
  "kernelspec": {
   "display_name": "Python 3 (ipykernel)",
   "language": "python",
   "name": "python3"
  },
  "language_info": {
   "codemirror_mode": {
    "name": "ipython",
    "version": 3
   },
   "file_extension": ".py",
   "mimetype": "text/x-python",
   "name": "python",
   "nbconvert_exporter": "python",
   "pygments_lexer": "ipython3",
   "version": "3.11.0"
  }
 },
 "nbformat": 4,
 "nbformat_minor": 5
}
