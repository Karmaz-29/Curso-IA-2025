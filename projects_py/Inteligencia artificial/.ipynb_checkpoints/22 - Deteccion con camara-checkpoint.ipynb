{
 "cells": [
  {
   "cell_type": "code",
   "execution_count": 1,
   "id": "441fe56d-3338-4fe7-880a-52554e899083",
   "metadata": {},
   "outputs": [],
   "source": [
    "import cv2\n",
    "import mediapipe as mp \n",
    "import math"
   ]
  },
  {
   "cell_type": "code",
   "execution_count": 2,
   "id": "7fd786e7-fc18-4e69-9f91-7e4bf593b08d",
   "metadata": {},
   "outputs": [],
   "source": [
    "mp_drawing = mp.solutions.drawing_utils\n",
    "mp_hands = mp.solutions.hands"
   ]
  },
  {
   "cell_type": "code",
   "execution_count": 3,
   "id": "8a6f6526-b716-4172-aeef-a025bd35d7d1",
   "metadata": {},
   "outputs": [],
   "source": [
    "def distancia(p1, p2):\n",
    "    return math.sqrt((p2.x - p1.x)**2 + (p2.y - p1.y)**2 + (p2.z - p1.z)**2)"
   ]
  },
  {
   "cell_type": "code",
   "execution_count": 4,
   "id": "21b3aafb-f7bb-4e74-993a-68b3ef732510",
   "metadata": {},
   "outputs": [],
   "source": [
    "# Función para determinar si un dedo está levantado \n",
    "def dedo_levantado(landmarks, dedo_tip, dedo_dip, dedo_pip, dedo_mcp, umbral=0.2):\n",
    "    # Comparar la posición \"y\" del punto a la punta en los puntos anteriores\n",
    "    return (\n",
    "        landmarks[dedo_tip].y < landmarks[dedo_dip].y and \n",
    "        landmarks[dedo_dip].y < landmarks[dedo_pip].y and\n",
    "        landmarks[dedo_pip].y < landmarks[dedo_mcp].y \n",
    "    )"
   ]
  },
  {
   "cell_type": "code",
   "execution_count": 5,
   "id": "885e4558-a6dc-4395-82a6-798ea8943843",
   "metadata": {},
   "outputs": [],
   "source": [
    "cap = cv2.VideoCapture(0) # 0 camara predeterminado"
   ]
  },
  {
   "cell_type": "code",
   "execution_count": 6,
   "id": "c7ad2b37-4867-4185-a8c9-14443e418159",
   "metadata": {},
   "outputs": [],
   "source": [
    "with mp_hands.Hands(\n",
    "    static_image_mode = False,\n",
    "    max_num_hands = 2,\n",
    "    min_detection_confidence = 0.5\n",
    ") as hands:\n",
    "    while cap.isOpened():\n",
    "        success, image = cap.read()\n",
    "        if not success:\n",
    "            print('Ignorando camara vacia')\n",
    "            continue\n",
    "        image = cv2.flip(image, 1)\n",
    "        image_rgb = cv2.cvtColor(image, cv2.COLOR_BGR2RGB)\n",
    "        results = hands.process(image_rgb)\n",
    "\n",
    "        if results.multi_hand_landmarks:\n",
    "            for hand_landmarks in results.multi_hand_landmarks:\n",
    "                mp_drawing.draw_landmarks(\n",
    "                    image, hand_landmarks, mp_hands.HAND_CONNECTIONS\n",
    "                )\n",
    "                landmarks = hand_landmarks.landmark\n",
    "\n",
    "                PULGAR_TIP = 4\n",
    "                INDICE_TIP = 8\n",
    "                MEDIO_TIP = 12\n",
    "                ANULAR_TIP = 16\n",
    "                MENIQUE_TIP = 20\n",
    "\n",
    "                dedos = {\n",
    "                    'Pulgar': (PULGAR_TIP, 2, 1, 0),\n",
    "                    'Indice': (INDICE_TIP, 6, 5, 0),\n",
    "                    'Medio': (MEDIO_TIP, 10, 9, 0),\n",
    "                    'Anular': (ANULAR_TIP, 14, 13, 0),\n",
    "                    'Menique': (MENIQUE_TIP, 18, 17, 0)\n",
    "                }\n",
    "\n",
    "                dedos_levantados = []\n",
    "                for nombre, (tip, dip, pip, mcp) in dedos.items():\n",
    "                    if dedo_levantado(landmarks, tip, dip, pip, mcp):\n",
    "                        dedos_levantados.append(nombre)\n",
    "\n",
    "                cv2.putText(image, f\"Dedos: {','.join(dedos_levantados)}\", (10, 30), cv2.FONT_HERSHEY_SIMPLEX, 1, (0, 255, 0), 2)\n",
    "                \n",
    "        cv2.imshow('Deteccion de manos', image)\n",
    "\n",
    "        if cv2.waitKey(5) & 0xFF == ord('q'):\n",
    "            break\n",
    "\n",
    "cap.release()\n",
    "cv2.destroyAllWindows()"
   ]
  },
  {
   "cell_type": "code",
   "execution_count": null,
   "id": "3c420aa0-c525-48a0-9c50-3218633e1b88",
   "metadata": {},
   "outputs": [],
   "source": []
  }
 ],
 "metadata": {
  "kernelspec": {
   "display_name": "Python 3 (ipykernel)",
   "language": "python",
   "name": "python3"
  },
  "language_info": {
   "codemirror_mode": {
    "name": "ipython",
    "version": 3
   },
   "file_extension": ".py",
   "mimetype": "text/x-python",
   "name": "python",
   "nbconvert_exporter": "python",
   "pygments_lexer": "ipython3",
   "version": "3.11.0"
  }
 },
 "nbformat": 4,
 "nbformat_minor": 5
}
