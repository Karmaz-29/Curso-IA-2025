{
 "cells": [
  {
   "cell_type": "code",
   "execution_count": 1,
   "id": "95274458-d880-4f64-baf6-3b08d8836684",
   "metadata": {},
   "outputs": [],
   "source": [
    "# Requisitos: pip install tensorflow matplotlib numpy \n",
    "import tensorflow as tf\n",
    "from tensorflow.keras.layers import Dense, LeakyReLU, BatchNormalization, Reshape, Flatten\n",
    "from tensorflow.keras.models import Sequential \n",
    "from tensorflow.keras.optimizers import Adam\n",
    "import numpy as np\n",
    "import matplotlib.pyplot as plt"
   ]
  },
  {
   "cell_type": "code",
   "execution_count": 2,
   "id": "7d36d444-12e3-4383-adb0-ee7d8cc2cd55",
   "metadata": {},
   "outputs": [],
   "source": [
    "(x_train, _), (_,_) = tf.keras.datasets.mnist.load_data()\n",
    "x_train = x_train / 255.0\n",
    "x_train = x_train.reshape(-1, 28, 28, 1).astype('float32')"
   ]
  },
  {
   "cell_type": "code",
   "execution_count": 3,
   "id": "986ca160-271e-49a7-a248-93d07f753a0b",
   "metadata": {},
   "outputs": [],
   "source": [
    "latent_dim = 100\n"
   ]
  },
  {
   "cell_type": "code",
   "execution_count": 4,
   "id": "a2d79a26-bc98-4efe-bb40-6cf6b629e603",
   "metadata": {},
   "outputs": [],
   "source": [
    "def build_generator():\n",
    "    model = Sequential([\n",
    "        Dense(256, input_dim=latent_dim),\n",
    "        LeakyReLU(alpha = 0.2),\n",
    "        BatchNormalization(),\n",
    "        Dense(512),\n",
    "        LeakyReLU(alpha=0.2),\n",
    "        BatchNormalization(),\n",
    "        Dense(1024),\n",
    "        LeakyReLU(alpha=0.2),\n",
    "        BatchNormalization(),\n",
    "        Dense(28*28*1, activation='tanh'),\n",
    "        Reshape((28,28,1))\n",
    "    ])\n",
    "    return model\n",
    "        "
   ]
  },
  {
   "cell_type": "code",
   "execution_count": 5,
   "id": "e3f6fd2b-fe0e-4ae1-89b1-cce69e06f874",
   "metadata": {},
   "outputs": [],
   "source": [
    "def build_discriminador():\n",
    "    model = Sequential([\n",
    "        Flatten(input_shape=(28,28,1)),\n",
    "        Dense(512),\n",
    "        LeakyReLU(alpha=0.2),\n",
    "        Dense(1, activation='sigmoid') # Clasificion entre real (1) o falso (0)\n",
    "        \n",
    "    ])\n",
    "    return model"
   ]
  },
  {
   "cell_type": "code",
   "execution_count": 6,
   "id": "8d5ba28d-47c2-4b4a-9ae1-46209d3e6909",
   "metadata": {},
   "outputs": [
    {
     "name": "stderr",
     "output_type": "stream",
     "text": [
      "C:\\Users\\karol\\AppData\\Local\\Programs\\Python\\Python311\\Lib\\site-packages\\keras\\src\\layers\\reshaping\\flatten.py:37: UserWarning: Do not pass an `input_shape`/`input_dim` argument to a layer. When using Sequential models, prefer using an `Input(shape)` object as the first layer in the model instead.\n",
      "  super().__init__(**kwargs)\n",
      "C:\\Users\\karol\\AppData\\Local\\Programs\\Python\\Python311\\Lib\\site-packages\\keras\\src\\layers\\activations\\leaky_relu.py:41: UserWarning: Argument `alpha` is deprecated. Use `negative_slope` instead.\n",
      "  warnings.warn(\n"
     ]
    }
   ],
   "source": [
    "discriminador = build_discriminador()\n",
    "discriminador.compile(\n",
    "    optimizer = Adam(learning_rate=0.0002, beta_1 = 0.5),\n",
    "    loss = 'binary_crossentropy',\n",
    "    metrics =['accuracy']\n",
    ")"
   ]
  },
  {
   "cell_type": "code",
   "execution_count": 7,
   "id": "095e5144-f063-4c94-9454-6402f58fe245",
   "metadata": {},
   "outputs": [
    {
     "name": "stderr",
     "output_type": "stream",
     "text": [
      "C:\\Users\\karol\\AppData\\Local\\Programs\\Python\\Python311\\Lib\\site-packages\\keras\\src\\layers\\core\\dense.py:87: UserWarning: Do not pass an `input_shape`/`input_dim` argument to a layer. When using Sequential models, prefer using an `Input(shape)` object as the first layer in the model instead.\n",
      "  super().__init__(activity_regularizer=activity_regularizer, **kwargs)\n"
     ]
    }
   ],
   "source": [
    "generador = build_generator()"
   ]
  },
  {
   "cell_type": "code",
   "execution_count": 8,
   "id": "3e1d618a-7d47-4f3a-a4e5-ffeee95e3eb8",
   "metadata": {},
   "outputs": [],
   "source": [
    "discriminadortrainable = False\n",
    "gan_input = tf.keras.Input(shape=(latent_dim,))\n",
    "gan_output = discriminador(generador(gan_input))\n",
    "gan = tf.keras.Model(gan_input, gan_output)"
   ]
  },
  {
   "cell_type": "code",
   "execution_count": 9,
   "id": "83cce445-b043-42d1-80a6-ecc806812da4",
   "metadata": {},
   "outputs": [],
   "source": [
    "gan.compile(\n",
    "    optimizer = Adam(learning_rate=0.0002, beta_1=0.5),\n",
    "    loss='binary_crossentropy'\n",
    ")"
   ]
  },
  {
   "cell_type": "code",
   "execution_count": 10,
   "id": "1e147686-f062-4262-bdda-c337ab462cfc",
   "metadata": {},
   "outputs": [],
   "source": [
    "def generate_and_save_images(\n",
    "    epoch, generator, ejemplos=16, dim=(4, 4), figsize=(10, 10)\n",
    "):\n",
    "    noise = np.random.normal(0, 1, size=(ejemplos, latent_dim))\n",
    "    generated_images = generator.predict(noise)\n",
    "    generated_images = generated_images.reshape(ejemplos, 28, 28)\n",
    "\n",
    "    plt.figure(figsize=figsize)\n",
    "    for i in range(generated_images.shape[0]):\n",
    "        # crear una subgráfica para cada imagen generada\n",
    "        plt.subplot(dim[0], dim[1], i + 1)\n",
    "        plt.imshow(generated_images[i], interpolation=\"nearest\", cmap=\"gray_r\")\n",
    "        plt.axis(\"off\")\n",
    "    plt.tight_layout()\n",
    "    plt.savefig(f\"gan_generated_epoch_{epoch}.png\")\n",
    "    plt.show()"
   ]
  },
  {
   "cell_type": "code",
   "execution_count": 11,
   "id": "ff750c80-fd90-4cb7-be1f-9dbb49659f20",
   "metadata": {},
   "outputs": [],
   "source": [
    "def train_gan(epochs=10000, batch_size=128):\n",
    "    batch_count = x_train.shape[0] // batch_size\n",
    "\n",
    "    for epoch in range(epochs):\n",
    "        for _ in range(batch_count):\n",
    "            noise = np.random.normal(0, 1, size=(batch_size, latent_dim))\n",
    "            generated_images = generador.predict(noise)\n",
    "            real_images = x_train[\n",
    "                np.random.randint(0, x_train.shape[0], size=batch_size)\n",
    "            ]\n",
    "\n",
    "            X = np.concatenate([real_images, generated_images])\n",
    "            Y = np.concatenate([np.ones((batch_size, 1)), np.zeros((batch_size, 1))])\n",
    "\n",
    "            d_loss = discriminador.train_on_batch(X, Y)\n",
    "            g_loss = gan.train_on_batch(noise, np.ones((batch_size, 1)))\n",
    "\n",
    "        if epoch % 1000 == 0:\n",
    "            d_loss_val = d_loss[0] if isinstance(d_loss, (list, tuple)) else d_loss\n",
    "            g_loss_val = g_loss[0] if isinstance(g_loss, (list, tuple)) else g_loss\n",
    "\n",
    "            print(\n",
    "                f\"Epoch {epoch} | Discriminator Loss: {d_loss_val} | Generator Loss: {g_loss_val}\"\n",
    "            )\n",
    "\n",
    "            generate_and_save_images(epoch, generador)"
   ]
  },
  {
   "cell_type": "code",
   "execution_count": null,
   "id": "c152af86-8185-471f-8382-c8ca1c89a8e1",
   "metadata": {},
   "outputs": [],
   "source": [
    "train_gan(epochs=10000, batch_size=128)"
   ]
  },
  {
   "cell_type": "code",
   "execution_count": null,
   "id": "cefe717e-5048-40a1-a891-b79e729e3a50",
   "metadata": {},
   "outputs": [],
   "source": []
  }
 ],
 "metadata": {
  "kernelspec": {
   "display_name": "Python 3 (ipykernel)",
   "language": "python",
   "name": "python3"
  },
  "language_info": {
   "codemirror_mode": {
    "name": "ipython",
    "version": 3
   },
   "file_extension": ".py",
   "mimetype": "text/x-python",
   "name": "python",
   "nbconvert_exporter": "python",
   "pygments_lexer": "ipython3",
   "version": "3.11.0"
  }
 },
 "nbformat": 4,
 "nbformat_minor": 5
}
