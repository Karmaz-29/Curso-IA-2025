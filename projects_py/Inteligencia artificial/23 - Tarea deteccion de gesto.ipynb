{
 "cells": [
  {
   "cell_type": "code",
   "execution_count": 1,
   "id": "441fe56d-3338-4fe7-880a-52554e899083",
   "metadata": {},
   "outputs": [],
   "source": [
    "import cv2\n",
    "import mediapipe as mp \n",
    "import math"
   ]
  },
  {
   "cell_type": "code",
   "execution_count": 2,
   "id": "7fd786e7-fc18-4e69-9f91-7e4bf593b08d",
   "metadata": {},
   "outputs": [],
   "source": [
    "mp_drawing = mp.solutions.drawing_utils\n",
    "mp_hands = mp.solutions.hands"
   ]
  },
  {
   "cell_type": "code",
   "execution_count": 3,
   "id": "8a6f6526-b716-4172-aeef-a025bd35d7d1",
   "metadata": {},
   "outputs": [],
   "source": [
    "def distancia(p1, p2):\n",
    "    return math.sqrt((p2.x - p1.x)**2 + (p2.y - p1.y)**2 + (p2.z - p1.z)**2)"
   ]
  },
  {
   "cell_type": "code",
   "execution_count": 20,
   "id": "21b3aafb-f7bb-4e74-993a-68b3ef732510",
   "metadata": {},
   "outputs": [],
   "source": [
    "# Función para determinar si un dedo está levantado \n",
    "def dedo_levantado(landmarks):\n",
    "    dedos = {\n",
    "        'Pulgar': False,\n",
    "        'Indice': False,\n",
    "        'Medio': False,\n",
    "        'Anular': False,\n",
    "        'Menique': False\n",
    "    }\n",
    "    # Pulgar (comparacion en eje X para mejor precision)\n",
    "    dedos['Pulgar'] = landmarks[4].x < landmarks[3].x if landmarks[0].x < landmarks[9].x else landmarks[4].x > landmarks[3].x\n",
    "    dedos['Indice'] = landmarks[8].y < landmarks[6].y\n",
    "    dedos['Medio'] = landmarks[12].y < landmarks[10].y\n",
    "    dedos['Anular'] = landmarks[16].y < landmarks[14].y\n",
    "    dedos['Menique'] = landmarks[20].y < landmarks[18].y\n",
    "    \n",
    "    return dedos\n",
    "\n",
    "def detectar_gesto(dedos):\n",
    "    # Gestos predefinidos\n",
    "    if all (dedos.values()):\n",
    "        return 'Alto'\n",
    "    elif dedos['Indice'] and dedos['Menique'] and not any([dedos['Pulgar'], dedos['Anular'], dedos['Medio']]):\n",
    "        return 'Cuernos'\n",
    "    elif dedos['Pulgar'] and dedos['Menique'] and not any([dedos['Indice'], dedos['Medio'], dedos['Anular']]):\n",
    "        return 'Llamame'\n",
    "    elif dedos['Indice'] and dedos['Menique'] and dedos['Pulgar'] and not any([dedos['Anular'], dedos['Medio']]):\n",
    "        return 'Te quiero '\n",
    "    elif dedos['Indice'] and dedos['Menique'] and dedos['Pulgar'] and not any([dedos['Anular'], dedos['Medio']]):\n",
    "        return 'Saludo vulcano'\n",
    "    elif not any(dedos.values()):\n",
    "        return 'Puño'\n",
    "    elif any([dedos['Medio'], dedos['Anular'], dedos['Menique']]) and distancia(landmarks[4], landmarks[8]) < 0.05:\n",
    "        return 'Pinza'\n",
    "    elif any([dedos['Medio'], dedos['Anular'], dedos['Menique']]) and distancia(landmarks[4], landmarks[8]) < 0.05:\n",
    "        return 'Senialar izquierda'\n",
    "    elif any([dedos['Medio'], dedos['Anular'], dedos['Menique']]) and distancia(landmarks[4], landmarks[8]) < 0.05:\n",
    "        return 'Senialar derecha'\n",
    "    elif any([dedos['Medio'], dedos['Anular'], dedos['Menique']]) and distancia(landmarks[4], landmarks[8]) < 0.05:\n",
    "        return 'Corazon coreano'\n",
    "    else:\n",
    "        return 'Gesto no definido'"
   ]
  },
  {
   "cell_type": "code",
   "execution_count": 21,
   "id": "885e4558-a6dc-4395-82a6-798ea8943843",
   "metadata": {},
   "outputs": [],
   "source": [
    "cap = cv2.VideoCapture(0) # 0 camara predeterminado"
   ]
  },
  {
   "cell_type": "code",
   "execution_count": 22,
   "id": "c7ad2b37-4867-4185-a8c9-14443e418159",
   "metadata": {},
   "outputs": [],
   "source": [
    "with mp_hands.Hands(\n",
    "    static_image_mode = False,\n",
    "    max_num_hands = 2,\n",
    "    min_detection_confidence = 0.7,\n",
    "    min_tracking_confidence=0.7) as hands:\n",
    "    \n",
    "    while cap.isOpened():\n",
    "        success, image = cap.read()\n",
    "        if not success:\n",
    "            print('No se pudo capturar imagen')\n",
    "            continue\n",
    "        image = cv2.flip(image, 1)\n",
    "        image_rgb = cv2.cvtColor(image, cv2.COLOR_BGR2RGB)\n",
    "        results = hands.process(image_rgb)\n",
    "\n",
    "        if results.multi_hand_landmarks:\n",
    "            for hand_landmarks in results.multi_hand_landmarks:\n",
    "                mp_drawing.draw_landmarks(\n",
    "                    image, hand_landmarks, mp_hands.HAND_CONNECTIONS\n",
    "                )\n",
    "                landmarks = hand_landmarks.landmark\n",
    "\n",
    "\n",
    "                dedos = dedo_levantado(landmarks)\n",
    "                gesto = detectar_gesto(dedos)\n",
    "\n",
    "                # Mostrar gesto detectado\n",
    "                cv2.putText(image, f'Gesto: {gesto}', (10,50), cv2.FONT_HERSHEY_SIMPLEX, 1, (0, 255, 0), 2)\n",
    "\n",
    "                info_dedos = f'Dedos: {[k for k, v in dedos.items() if v]}'\n",
    "\n",
    "                cv2.putText(image, info_dedos, (10, 30), cv2.FONT_HERSHEY_SIMPLEX, 0.7, (255, 255, 0), 2)\n",
    "                \n",
    "        cv2.imshow('Deteccion de gestos', image)\n",
    "\n",
    "        if cv2.waitKey(5) & 0xFF == ord('q'):\n",
    "            break\n",
    "\n",
    "cap.release()\n",
    "cv2.destroyAllWindows()"
   ]
  },
  {
   "cell_type": "code",
   "execution_count": null,
   "id": "3c420aa0-c525-48a0-9c50-3218633e1b88",
   "metadata": {},
   "outputs": [],
   "source": []
  },
  {
   "cell_type": "code",
   "execution_count": null,
   "id": "c81d2321-192f-49df-9a47-8c54019f7f48",
   "metadata": {},
   "outputs": [],
   "source": []
  }
 ],
 "metadata": {
  "kernelspec": {
   "display_name": "Python 3 (ipykernel)",
   "language": "python",
   "name": "python3"
  },
  "language_info": {
   "codemirror_mode": {
    "name": "ipython",
    "version": 3
   },
   "file_extension": ".py",
   "mimetype": "text/x-python",
   "name": "python",
   "nbconvert_exporter": "python",
   "pygments_lexer": "ipython3",
   "version": "3.11.0"
  }
 },
 "nbformat": 4,
 "nbformat_minor": 5
}
