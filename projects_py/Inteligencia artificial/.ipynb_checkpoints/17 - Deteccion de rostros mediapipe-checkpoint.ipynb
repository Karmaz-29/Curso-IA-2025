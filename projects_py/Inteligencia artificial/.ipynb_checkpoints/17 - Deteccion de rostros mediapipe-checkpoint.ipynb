{
 "cells": [
  {
   "cell_type": "code",
   "execution_count": 1,
   "id": "44c75621-4ef9-4f33-a361-99ed111df293",
   "metadata": {},
   "outputs": [],
   "source": [
    "# Módulos necesarios \n",
    "import cv2\n",
    "import numpy as np \n",
    "# Desde la web \n",
    "import requests\n",
    "import mediapipe as mp"
   ]
  },
  {
   "cell_type": "code",
   "execution_count": 2,
   "id": "6e75d508-5d7c-4c80-8aa7-40646d038249",
   "metadata": {},
   "outputs": [],
   "source": [
    "# Paso 1: Cargar imagen \n",
    "# ruta = \"/Imagenes/rostro-mujer.jpg\"\n",
    "# Desde la web \n",
    "url = \"https://img.freepik.com/foto-gratis/comunidad-jovenes-positivos-juntos_23-2148431352.jpg\"\n",
    "response = requests.get(url)\n",
    "image_array = np.asarray(bytearray(response.content), dtype=np.uint8)\n",
    "image = cv2.imdecode(image_array, cv2.IMREAD_COLOR)\n",
    "#image = cv2.imread(ruta)"
   ]
  },
  {
   "cell_type": "code",
   "execution_count": 5,
   "id": "ff237e61-2fb9-4b83-bcc5-1087875f57e7",
   "metadata": {},
   "outputs": [],
   "source": [
    "# Paso 2: Inicializar la detección de rostros de MediaPipe\n",
    "mp_face_detection = mp.solutions.face_detection\n",
    "mp_drawing = mp.solutions.drawing_utils"
   ]
  },
  {
   "cell_type": "code",
   "execution_count": 7,
   "id": "55f18e00-bd36-4027-b322-201b78f44392",
   "metadata": {},
   "outputs": [],
   "source": [
    "# Paso 3: Usar el modelo con la imagen \n",
    "with mp_face_detection.FaceDetection(model_selection=1, min_detection_confidence=0.5) as face_detection:\n",
    "    # Convertir la imagen a RGB (mediapipe trabaja con RGB)\n",
    "    image_rgb = cv2.cvtColor(image, cv2.COLOR_BGR2RGB)\n",
    "    # Procesar la imagen \n",
    "    results = face_detection.process(image_rgb)\n",
    "    # Dibujar los resultados \n",
    "    if results.detections:\n",
    "        for detection in results.detections:\n",
    "            mp_drawing.draw_detection(image, detection)"
   ]
  },
  {
   "cell_type": "code",
   "execution_count": 8,
   "id": "eeacf74f-778e-4356-b22a-a674404e4db2",
   "metadata": {},
   "outputs": [],
   "source": [
    "# Paso 4: Mostrar la imagen con detecciones\n",
    "cv2.imshow(\"Detección de rostros\", image)\n",
    "cv2.waitKey(0)\n",
    "cv2.destroyAllWindows()"
   ]
  },
  {
   "cell_type": "code",
   "execution_count": null,
   "id": "8e41d091-e439-49a2-bcd0-75cfc20a5c25",
   "metadata": {},
   "outputs": [],
   "source": []
  }
 ],
 "metadata": {
  "kernelspec": {
   "display_name": "Python 3 (ipykernel)",
   "language": "python",
   "name": "python3"
  },
  "language_info": {
   "codemirror_mode": {
    "name": "ipython",
    "version": 3
   },
   "file_extension": ".py",
   "mimetype": "text/x-python",
   "name": "python",
   "nbconvert_exporter": "python",
   "pygments_lexer": "ipython3",
   "version": "3.11.0"
  }
 },
 "nbformat": 4,
 "nbformat_minor": 5
}
